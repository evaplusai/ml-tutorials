{
 "cells": [
  {
   "cell_type": "code",
   "execution_count": 1,
   "metadata": {},
   "outputs": [],
   "source": [
    "from haystack import Document\n",
    "from haystack.document_stores import FAISSDocumentStore\n",
    "from haystack.nodes import DensePassageRetriever, AnswerParser, PromptNode, PromptTemplate\n",
    "from haystack import Pipeline\n",
    "import os\n",
    "import pandas as pd"
   ]
  },
  {
   "cell_type": "code",
   "execution_count": 2,
   "metadata": {},
   "outputs": [],
   "source": [
    "from dotenv import load_dotenv\n",
    "load_dotenv(\"../.env\")\n",
    "openai_key = os.getenv(\"OPENAI_API_KEY\")"
   ]
  },
  {
   "cell_type": "code",
   "execution_count": 15,
   "metadata": {},
   "outputs": [],
   "source": [
    "openai_key=''"
   ]
  },
  {
   "cell_type": "code",
   "execution_count": 3,
   "metadata": {},
   "outputs": [],
   "source": [
    "\n",
    "def initialize_documents(file_path):\n",
    "    \"\"\"\n",
    "    Casts recipes from prepared recipe_docs.csv file into document structure for Haystack.\n",
    "\n",
    "    Args:\n",
    "        file_path (str): location of recipe_docs.csv file\n",
    "    Returns:\n",
    "        documents ()\n",
    "    \"\"\"\n",
    "    # Load data\n",
    "    df = pd.read_csv(file_path)\n",
    "    df= df[:100]\n",
    "\n",
    "    if len(df.columns) != 2 or df.columns[0] != \"name\" or df.columns[1] != \"full_recipe\":\n",
    "            raise ValueError(\"The CSV must contain two columns named 'name' and 'full_recipe'\")\n",
    "    \n",
    "    df.fillna(value=\"\", inplace=True)\n",
    "    df[\"name\"] = df[\"name\"].apply(lambda x: x.strip())\n",
    "\n",
    "    df = df.rename(columns={\"name\": \"content\"})\n",
    "    df = df.rename(columns={\"full_recipe\": \"answer\"})\n",
    "    docs_dicts = df.to_dict(orient=\"records\")\n",
    "\n",
    "    docs = []\n",
    "    for dictionary in docs_dicts:            \n",
    "        docs.append(Document.from_dict(dictionary))\n",
    "    print(len(docs))\n",
    "    return docs\n"
   ]
  },
  {
   "cell_type": "code",
   "execution_count": 4,
   "metadata": {},
   "outputs": [],
   "source": [
    "def initialize_faiss_document_store(documents):\n",
    "    \"\"\"\n",
    "    Initialize FAISS document store and retriever.\n",
    "    Args:\n",
    "        documents (list): List of documents to be stored in document store.\n",
    "    Returns:\n",
    "        document_store (FAISSDocumentStore): FAISS document store.\n",
    "        retriever (DensePassageRetriever): Dense passage retriever\n",
    "    \"\"\"\n",
    "    # Initialize DocumentStore\n",
    "    document_store = FAISSDocumentStore(faiss_index_factory_str='Flat', return_embedding=True)\n",
    "\n",
    "    # Initialize Retriever\n",
    "    retriever = DensePassageRetriever(\n",
    "        document_store=document_store,\n",
    "        query_embedding_model=\"facebook/dpr-question_encoder-single-nq-base\",\n",
    "        passage_embedding_model=\"facebook/dpr-ctx_encoder-single-nq-base\",\n",
    "        use_gpu=False,\n",
    "        embed_title=True\n",
    "        )\n",
    "\n",
    "    # Delete existing documents in document store\n",
    "    document_store.delete_documents()\n",
    "    document_store.write_documents(documents)\n",
    "\n",
    "    # Add documents embeddings to index\n",
    "    document_store.update_embeddings(retriever=retriever)\n",
    "\n",
    "    return document_store, retriever"
   ]
  },
  {
   "cell_type": "code",
   "execution_count": 5,
   "metadata": {},
   "outputs": [
    {
     "name": "stdout",
     "output_type": "stream",
     "text": [
      "100\n"
     ]
    }
   ],
   "source": [
    "documents = initialize_documents('data/recipe_docs.csv')\n"
   ]
  },
  {
   "cell_type": "code",
   "execution_count": 6,
   "metadata": {},
   "outputs": [
    {
     "data": {
      "text/plain": [
       "100"
      ]
     },
     "execution_count": 6,
     "metadata": {},
     "output_type": "execute_result"
    }
   ],
   "source": [
    "len(documents)"
   ]
  },
  {
   "cell_type": "code",
   "execution_count": 7,
   "metadata": {},
   "outputs": [
    {
     "data": {
      "text/plain": [
       "<Document: {'content': 'arriba   baked winter squash mexican style', 'content_type': 'text', 'score': None, 'meta': {'answer': 'Name: arriba   baked winter squash mexican style\\n\\nRating: 5.0/5\\n\\nCook Time: 55 minutes\\n\\nTags: 60-minutes-or-less, time-to-make, course, main-ingredient, cuisine, preparation, occasion, north-american, side-dishes, vegetables, mexican, easy, fall, holiday-event, vegetarian, winter, dietary, christmas, seasonal, squash\\n\\nDescription: autumn is my favorite time of year to cook! this recipe \\r\\ncan be prepared either spicy or sweet, your choice!\\r\\ntwo of my posted mexican-inspired seasoning mix recipes are offered as suggestions.\\n\\nNumber of ingredients: 7\\n\\nIngredients List: winter squash, mexican seasoning, mixed spice, honey, butter, olive oil, salt\\n\\nSteps:\\n1 make a choice and proceed with recipe\\n2 depending on size of squash , cut into half or fourths\\n3 remove seeds\\n4 for spicy squash , drizzle olive oil or melted butter over each cut squash piece\\n5 season with mexican seasoning mix ii\\n6 for sweet squash , drizzle melted honey , butter , grated piloncillo over each cut squash piece\\n7 season with sweet mexican spice mix\\n8 bake at 350 degrees , again depending on size , for 40 minutes up to an hour , until a fork can easily pierce the skin\\n9 be careful not to burn the squash especially if you opt to use sugar or butter\\n10 if you feel more comfortable , cover the squash with aluminum foil the first half hour , give or take , of baking\\n11 if desired , season with salt\\n\\n\\nNutrition: 51.5 calories, 0.0% total fat, 13.0% sugar, 0.0% sodium, 2.0% protein, 0.0% saturated fat, '}, 'id_hash_keys': ['content'], 'embedding': None, 'id': '9b39df73bf67e8b003b4a324d635cd39'}>"
      ]
     },
     "execution_count": 7,
     "metadata": {},
     "output_type": "execute_result"
    }
   ],
   "source": [
    "documents[0]"
   ]
  },
  {
   "cell_type": "code",
   "execution_count": 8,
   "metadata": {},
   "outputs": [
    {
     "name": "stderr",
     "output_type": "stream",
     "text": [
      "c:\\workspace\\rag-pipeline-chatbot\\.venv\\Lib\\site-packages\\torch\\_utils.py:831: UserWarning: TypedStorage is deprecated. It will be removed in the future and UntypedStorage will be the only storage class. This should only matter to you if you are using storages directly.  To access UntypedStorage directly, use tensor.untyped_storage() instead of tensor.storage()\n",
      "  return self.fget.__get__(instance, owner)()\n",
      "Writing Documents: 10000it [00:00, 76897.06it/s]          \n",
      "Documents Processed: 10000 docs [00:18, 550.65 docs/s]         \n"
     ]
    }
   ],
   "source": [
    "document_store, retriever = initialize_faiss_document_store(documents=documents)\n"
   ]
  },
  {
   "cell_type": "code",
   "execution_count": 16,
   "metadata": {},
   "outputs": [],
   "source": [
    "def initialize_rag_pipeline(retriever, openai_key):\n",
    "    \"\"\"\n",
    "    Initialize a pipeline for RAG-based chatbot.\n",
    "    Args:\n",
    "        retriever (DensePassageRetriever): Dense passage retriever.\n",
    "        openai_key (str): API key for OpenAI.\n",
    "    Returns:\n",
    "        query_pipeline (Pipeline): Pipeline for RAG-based question answering.\n",
    "    \"\"\"\n",
    "    prompt_template = PromptTemplate(prompt=\"\"\"\"Answer the following query based on the provided context. If the context does\n",
    "                                                not include an answer, reply with 'The data does not contain information related to the question'.\\n\n",
    "                                                Query: {query}\\n\n",
    "                                                Documents: {join(documents)}\n",
    "                                                Answer: \n",
    "                                            \"\"\",\n",
    "                                            output_parser=AnswerParser())\n",
    "    prompt_node = PromptNode(model_name_or_path=\"gpt-3.5-turbo\",\n",
    "                             api_key=openai_key,\n",
    "                             default_prompt_template=prompt_template,\n",
    "                             max_length=500,\n",
    "                             model_kwargs={\"stream\": True})\n",
    "\n",
    "    query_pipeline = Pipeline()\n",
    "    query_pipeline.add_node(component=retriever, name=\"Retriever\", inputs=[\"Query\"])\n",
    "    query_pipeline.add_node(component=prompt_node, name=\"PromptNode\", inputs=[\"Retriever\"])\n",
    "\n",
    "    return query_pipeline"
   ]
  },
  {
   "cell_type": "code",
   "execution_count": 17,
   "metadata": {},
   "outputs": [],
   "source": [
    "query_pipeline = initialize_rag_pipeline(retriever=retriever, openai_key=openai_key)\n"
   ]
  },
  {
   "cell_type": "code",
   "execution_count": 18,
   "metadata": {},
   "outputs": [
    {
     "name": "stdout",
     "output_type": "stream",
     "text": [
      "The data does not contain information related to the question."
     ]
    },
    {
     "data": {
      "text/plain": [
       "{'answers': [<Answer {'answer': 'The data does not contain information related to the question.', 'type': 'generative', 'score': None, 'context': None, 'offsets_in_document': None, 'offsets_in_context': None, 'document_ids': ['92768dadbf7a0eeb3ec3e6303e3813f9', '123187ef16b64ddf0ef67bd48646cce1', '77235b76387b398c752a138c4e19761a', 'b2e9b71d88d11392fecce097a0f4a40b', 'ac58779334049a1e1d0f8cedcd7bf554', '7485683ce5c951f9b719d0830b1c0dbd', '4f9a280b1d3535d46895c898103a2986', '5813795ae104aa9539b7e69e84636e32', '87ec786e108ba1959adff0271aaa0101', '2a6e80a598f794936eff38f88bcb584d'], 'meta': {'prompt': \"Answer the following query based on the provided context. If the context does\\n                                                not include an answer, reply with 'The data does not contain information related to the question'.\\n\\n                                                Query: eggs,bacon,cheese\\n\\n                                                Documents: crispy crunchy  chicken stove top  bbq  beef or pork ribs grilled  ranch bread fried  potatoes italian sandwich  pasta salad jiffy  roasted corn and jalapeno cornbread grilled  venison burgers leftovers  spaghetti sauce cream  of spinach soup  vegan red  macaroni salad\\n                                                Answer: \\n                                            \"}}>],\n",
       " 'invocation_context': {'query': 'eggs,bacon,cheese',\n",
       "  'documents': [<Document: {'content': 'crispy crunchy  chicken', 'content_type': 'text', 'score': 0.6804033203018417, 'meta': {'answer': 'Name: crispy crunchy  chicken\\n\\nRating: 3.0/5\\n\\nCook Time: 35 minutes\\n\\nTags: 60-minutes-or-less, time-to-make, course, preparation, healthy, main-dish, dietary, low-saturated-fat, low-in-something\\n\\nDescription: delicious, crunchy fried chicken. this recipe came from the \\n\\nNumber of ingredients: 10\\n\\nIngredients List: boneless skinless chicken breast halves, condensed cream of chicken soup, egg, seasoning salt, all-purpose flour, cornstarch, garlic powder, paprika, salt and pepper, oil\\n\\nSteps:\\n1 combine soup , egg and seasoned salt in a bowl and set aside\\n2 mix together flour , cornstarch , garlic powder , paprika , salt and pepper in a resealable plastic bag\\n3 dip chicken pieces into soup mixture and turn so as to coat all over\\n4 place chicken pieces in bag with flour mixture , seal bag and shake to coat chicken\\n5 place coated pieces of chicken on a platter and allow to set until the coating becomes doughy\\n6 heat oil in a deep fryer or in a skillet over medium heat , using enough oil to cover chicken pieces when fried\\n7 once chicken is doughy , fry pieces in oil for approx 5-8 minutes or until cooked through and juices run clear\\n8 drain pieces on paper towel and serve\\n\\n\\nNutrition: 335.8 calories, 11.0% total fat, 2.0% sugar, 24.0% sodium, 64.0% protein, 10.0% saturated fat, ', 'vector_id': '51'}, 'id_hash_keys': ['content'], 'embedding': '<embedding of shape (768,)>', 'id': '92768dadbf7a0eeb3ec3e6303e3813f9'}>,\n",
       "   <Document: {'content': 'stove top  bbq  beef or pork ribs', 'content_type': 'text', 'score': 0.6791524658290596, 'meta': {'answer': \"Name: stove top  bbq  beef or pork ribs\\n\\nRating: 4.7/5\\n\\nCook Time: 150 minutes\\n\\nTags: time-to-make, course, main-ingredient, preparation, main-dish, beef, easy, dietary, meat, beef-ribs, 3-steps-or-less, 4-hours-or-less\\n\\nDescription: this recipe is from the paula deen cooking show on the tv food network. originally shown for beef short ribs only, i have found it works as well with pork ribs. i have increased the amount of sauce ingredients - the original amounts didn't seem to be quite enough to really enjoy!\\n\\nNumber of ingredients: 10\\n\\nIngredients List: beef ribs, onion, ketchup, water, fresh lemon juice, brown sugar, mustard, salt, worcestershire sauce, vegetable oil\\n\\nSteps:\\n1 cut all ribs into serving size pieces sprinkle ribs with salt in a dutch oven , brown ribs on all sides in veg oil over medium heat remove ribs from pot saute onions in pot until lightly browned return ribs to pot combine all remaining ingredients in a bowl and mix together- add to pot cover pot and cook over low heat for approx 2 hours , or until tender , stirring occasionally\\n\\n\\nNutrition: 179.3 calories, 7.0% total fat, 119.0% sugar, 36.0% sodium, 3.0% protein, 3.0% saturated fat, \", 'vector_id': '2'}, 'id_hash_keys': ['content'], 'embedding': '<embedding of shape (768,)>', 'id': '123187ef16b64ddf0ef67bd48646cce1'}>,\n",
       "   <Document: {'content': 'grilled  ranch bread', 'content_type': 'text', 'score': 0.6759433920048222, 'meta': {'answer': 'Name: grilled  ranch bread\\n\\nRating: 4.0/5\\n\\nCook Time: 13 minutes\\n\\nTags: 15-minutes-or-less, time-to-make, course, preparation, 5-ingredients-or-less, appetizers, breads, easy, number-of-servings, 3-steps-or-less\\n\\nDescription: buttery and \\n\\nNumber of ingredients: 3\\n\\nIngredients List: butter, dry ranch dressing mix, french bread\\n\\nSteps:\\n1 cream the butter with the dressing mix\\n2 spread evenly on the bread halves\\n3 place under the broiler for 2-3 minutes , until golden and the butter begins to seep and bubble\\n4 serve hot\\n\\n\\nNutrition: 1649.8 calories, 91.0% total fat, 4.0% sugar, 128.0% sodium, 80.0% protein, 160.0% saturated fat, ', 'vector_id': '41'}, 'id_hash_keys': ['content'], 'embedding': '<embedding of shape (768,)>', 'id': '77235b76387b398c752a138c4e19761a'}>,\n",
       "   <Document: {'content': 'fried  potatoes', 'content_type': 'text', 'score': 0.6744562350976389, 'meta': {'answer': 'Name: fried  potatoes\\n\\nRating: 4.5/5\\n\\nCook Time: 40 minutes\\n\\nTags: 60-minutes-or-less, time-to-make, course, main-ingredient, preparation, low-protein, healthy, 5-ingredients-or-less, side-dishes, potatoes, vegetables, oven, easy, dietary, low-sodium, low-cholesterol, low-saturated-fat, low-calorie, healthy-2, low-in-something, equipment\\n\\nDescription: my husband made these up last week, very tasty, he liked them because they were easy.\\n\\nNumber of ingredients: 3\\n\\nIngredients List: red potatoes, margarine, rosemary\\n\\nSteps:\\n1 preheat oven to 400 degrees\\n2 cut the potatoes into strips about 2 1 / 2 inches long by 1 / 4-inch thick\\n3 soak the potatoes in ice water for five minutes\\n4 drain the potatoes , then rinse thoroughly under cold water\\n5 press between paper towels to dry\\n6 transfer potatoes to a bowl , pour melted margarine over the potatoes and toss to coat them\\n7 spray baking sheet with non-stick spray\\n8 spread potatoes onto baking sheet\\n9 bake for 15 minutes\\n10 toss and turn\\n11 bake for five minutes\\n12 add herbs and toss\\n13 bake a final five minutes until the potatoes are brown and crisp\\n14 serve immediately\\n\\n\\nNutrition: 132.6 calories, 8.0% total fat, 4.0% sugar, 3.0% sodium, 4.0% protein, 5.0% saturated fat, ', 'vector_id': '72'}, 'id_hash_keys': ['content'], 'embedding': '<embedding of shape (768,)>', 'id': 'b2e9b71d88d11392fecce097a0f4a40b'}>,\n",
       "   <Document: {'content': 'italian sandwich  pasta salad', 'content_type': 'text', 'score': 0.6741008359159005, 'meta': {'answer': 'Name: italian sandwich  pasta salad\\n\\nRating: 5.0/5\\n\\nCook Time: 25 minutes\\n\\nTags: 30-minutes-or-less, time-to-make, course, main-ingredient, preparation, occasion, main-dish, salads, pasta, easy, kid-friendly, summer, dietary, one-dish-meal, seasonal, pasta-rice-and-grains\\n\\nDescription: this is a fun salad that uses the same ingredients you would in an italian sandwich. water chestnuts give it a nice crunch!!\\n\\nNumber of ingredients: 16\\n\\nIngredients List: tri-color spiral pasta, dill pickles, ripe olives, green onion, chives, sweet pepper, water chestnut, tomatoes, ham, cheese, olive oil, cider vinegar, onion powder, garlic powder, salt and pepper, italian seasoning\\n\\nSteps:\\n1 cook pasta and set aside\\n2 place onions , dill pickles , olives , water chestnuts , chives and peppers in a bowl\\n3 add oil , vinegar and spices\\n4 marinate for 15-20 minutes or so\\n5 add pasta , tomatoes , meat and cheese and toss lightly\\n6 serve cold\\n\\n\\nNutrition: 279.2 calories, 14.0% total fat, 12.0% sugar, 22.0% sodium, 23.0% protein, 11.0% saturated fat, ', 'vector_id': '66'}, 'id_hash_keys': ['content'], 'embedding': '<embedding of shape (768,)>', 'id': 'ac58779334049a1e1d0f8cedcd7bf554'}>,\n",
       "   <Document: {'content': 'jiffy  roasted corn and jalapeno cornbread', 'content_type': 'text', 'score': 0.6730174877623244, 'meta': {'answer': 'Name: jiffy  roasted corn and jalapeno cornbread\\n\\nRating: 5.0/5\\n\\nCook Time: 35 minutes\\n\\nTags: 60-minutes-or-less, time-to-make, course, main-ingredient, preparation, occasion, breads, side-dishes, vegetables, easy, beginner-cook, comfort-food, inexpensive, corn, taste-mood\\n\\nDescription: this is a moist, easy, colorful and delicious cornbread. roasting the corn adds a little nuttier flavor and the red bell pepper adds a nice color and flavor.\\n\\nNumber of ingredients: 10\\n\\nIngredients List: whole kernel corn, onion, red bell pepper, butter, jiffy corn muffin mix, egg, heavy cream, jalapenos, sharp cheddar cheese, honey\\n\\nSteps:\\n1 melt butter in a saut pan\\n2 add the corn , onion and red pepper and saut on medium heat until some of the corn kernels start to turn golden brown\\n3 whisk egg , corn liquid , and cream together\\n4 stir into corn muffin mix with a fork\\n5 stir in diced jalapenos and cheddar cheese\\n6 quickly stir in hot sauted corn and onion mixture , just mixing in slightly\\n7 pour into 8 x 8 buttered baking dish\\n8 bake at 350 for 15 minutes\\n9 remove cornbread , turn off oven , drizzle cornbread with honey and put back in hot oven for 5 minutes\\n10 remove from oven and let stand for 10 minutes before serving\\n\\n\\nNutrition: 400.2 calories, 32.0% total fat, 43.0% sugar, 31.0% sodium, 21.0% protein, 54.0% saturated fat, ', 'vector_id': '40'}, 'id_hash_keys': ['content'], 'embedding': '<embedding of shape (768,)>', 'id': '7485683ce5c951f9b719d0830b1c0dbd'}>,\n",
       "   <Document: {'content': 'grilled  venison burgers', 'content_type': 'text', 'score': 0.6723515319485764, 'meta': {'answer': 'Name: grilled  venison burgers\\n\\nRating: 4.4/5\\n\\nCook Time: 26 minutes\\n\\nTags: 30-minutes-or-less, time-to-make, course, main-ingredient, preparation, lunch, dietary, wild-game, deer, meat\\n\\nDescription: delicious venison burgers with that \\n\\nNumber of ingredients: 10\\n\\nIngredients List: ground venison, egg substitute, non-fat powdered milk, water, fresh breadcrumb, onion, salt, black pepper, dry mustard, worcestershire sauce\\n\\nSteps:\\n1 in bowl , mix dry ingredients\\n2 add venison and mix well\\n3 add liquid ingredients and mix well with a fork , until bread crumbs are barely noticeable\\n4 on plastic wrap , form into 8 patties , making them round and very flat-- like a fast-food burger\\n5 they can be cooked immediately , but i prefer to freeze them first\\n6 place them on a large cookie sheet and freeze them several hours\\n7 remove from freezer and place waxed paper between each burger as you stack them\\n8 i stack them in 2 1-quart freezer zip-lock bags\\n9 preheat cast iron skillet to very hot\\n10 cook frozen burgers until they are slightly charred on one side and then turn and cook until the other side is slightly charred and burgers are medium-well\\n11 do not overcook\\n12 turn burner off and leave burgers in the pan while you put condiments on your hamburger bun\\n13 if cooking thawed burgers , cook about 2-3 minutes per side\\n\\n\\nNutrition: 190.9 calories, 10.0% total fat, 10.0% sugar, 10.0% sodium, 45.0% protein, 15.0% saturated fat, ', 'vector_id': '24'}, 'id_hash_keys': ['content'], 'embedding': '<embedding of shape (768,)>', 'id': '4f9a280b1d3535d46895c898103a2986'}>,\n",
       "   <Document: {'content': 'leftovers  spaghetti sauce', 'content_type': 'text', 'score': 0.6722903341100348, 'meta': {'answer': \"Name: leftovers  spaghetti sauce\\n\\nRating: 4.0/5\\n\\nCook Time: 40 minutes\\n\\nTags: 60-minutes-or-less, time-to-make, course, main-ingredient, preparation, for-1-or-2, healthy, sauces, main-dish, condiments-etc, beef, pasta, dietary, low-cholesterol, low-calorie, low-carb, healthy-2, ground-beef, low-in-something, meat, pasta-rice-and-grains, number-of-servings\\n\\nDescription: i love eating ground beef in my spaghetti sauce. here's another recipe i made up, this time with leftovers i had in the fridge and also what i had on hand in the pantry. we were on a tight budget at the time, so i just threw a bunch of stuff together and it came out quite good and my husband enjoyed it too again, my measurements are all estimated, i apologize.\\n\\nNumber of ingredients: 6\\n\\nIngredients List: stewed tomatoes, prego spaghetti sauce, garlic, ground beef, white onion, granulated sugar\\n\\nSteps:\\n1 i had previously browned and drained the ground beef and had it in the fridge , if you don't have this leftover , brown ground beef first in a nonstick skillet , drain off fat really well\\n2 i use a pile of paper towels to soak up the fat\\n3 place ground beef in a large pot\\n4 stir in all other ingredients except the sugar\\n5 bring to a boil , stirring occasionally\\n6 turn heat down to low and simmer uncovered or covered for about 30 minutes or so to let the flavors mix , stirring occasionally\\n7 taste the sauce now and then and add more onions or garlic to taste\\n8 add a little sugar to neutralize the acidity of the tomatoes during the simmering\\n9 serve over hot spaghetti noodles\\n10 the sauce should be fairly thick , not runny , so as you add in the ingredients , use more or less of the prego as needed\\n11 if too thick , add a little water , more prego , or more stewed tomatoes with juice\\n12 when i made mine , it was the consistency of chili\\n13 this makes a pretty decent batch , can feed 2-4 depending on how much everyone eats in a serving\\n\\n\\nNutrition: 987.8 calories, 75.0% total fat, 195.0% sugar, 106.0% sodium, 104.0% protein, 83.0% saturated fat, \", 'vector_id': '26'}, 'id_hash_keys': ['content'], 'embedding': '<embedding of shape (768,)>', 'id': '5813795ae104aa9539b7e69e84636e32'}>,\n",
       "   <Document: {'content': 'cream  of spinach soup  vegan', 'content_type': 'text', 'score': 0.6721912050523221, 'meta': {'answer': 'Name: cream  of spinach soup  vegan\\n\\nRating: 2.0/5\\n\\nCook Time: 55 minutes\\n\\nTags: 60-minutes-or-less, time-to-make, course, main-ingredient, preparation, occasion, bisques-cream-soups, main-dish, soups-stews, vegetables, vegan, vegetarian, stove-top, dietary, one-dish-meal, low-cholesterol, low-saturated-fat, low-calorie, comfort-food, low-in-something, taste-mood, equipment\\n\\nDescription: thickened with a mix of cooked oats and vegies, this soup has all the flavor of the original with a fraction of the fat stuff. low in cholestorol too!\\n\\nNumber of ingredients: 12\\n\\nIngredients List: onion, scallion, apple juice, olive oil, spinach, fresh parsley, celery, broth, rolled oats, salt, dried thyme, white pepper\\n\\nSteps:\\n1 in a 3 qt saucepan over medium high heat , saute the onions and scallions in the apple juice and oil for 5 minutes , stirring frequently\\n2 add the spinach , parsley and celery\\n3 cook for 5-7 minutes , stirring occasionally add the broth , oats , salt , thyme and pepper\\n4 bring to a boil , then lower the heat to medium\\n5 cover and simmer for 20 minutes\\n6 remove from the heat\\n7 let the soup cool for 10 minutes\\n8 working in batches , puree in a blender until thick and smooth\\n9 return to the pot\\n10 reheat and serve\\n\\n\\nNutrition: 64.8 calories, 3.0% total fat, 13.0% sugar, 54.0% sodium, 4.0% protein, 2.0% saturated fat, ', 'vector_id': '48'}, 'id_hash_keys': ['content'], 'embedding': '<embedding of shape (768,)>', 'id': '87ec786e108ba1959adff0271aaa0101'}>,\n",
       "   <Document: {'content': 'red  macaroni salad', 'content_type': 'text', 'score': 0.6714807658044606, 'meta': {'answer': 'Name: red  macaroni salad\\n\\nRating: 3.5/5\\n\\nCook Time: 1470 minutes\\n\\nTags: weeknight, time-to-make, course, main-ingredient, preparation, healthy, salads, side-dishes, pasta, 1-day-or-more, dietary, low-sodium, low-cholesterol, healthy-2, low-in-something, pasta-rice-and-grains, elbow-macaroni\\n\\nDescription: this is not your usual macaroni salad....there is no miracle whip in this. when i first saw it i was a little put off because of the looks of it, but was sooo surprised when i tasted it!!glad i did! tasty & a nice change.(i put 1 day for cook time as this is best made ahead of time,i am guessing on servings also as it depends on the appetites and the venue!)\\n\\nNumber of ingredients: 10\\n\\nIngredients List: elbow macaroni, green pepper, onion, celery, fresh tomato, cucumber, oil, brown sugar, lemon juice, ketchup\\n\\nSteps:\\n1 in large mixing bowl , combine your macaroni& diced veggies\\n2 in another bowl , combine sauce ingredients , blending well\\n3 pour sauce over the macaroni& vegetables\\n4 mix well& chill\\n5 this can be made up to a day before for fullest flavour\\n6 great for a bbq !\\n7 may be kept 3-4 days in refrigerator\\n\\n\\nNutrition: 572.6 calories, 43.0% total fat, 113.0% sugar, 11.0% sodium, 17.0% protein, 18.0% saturated fat, ', 'vector_id': '14'}, 'id_hash_keys': ['content'], 'embedding': '<embedding of shape (768,)>', 'id': '2a6e80a598f794936eff38f88bcb584d'}>],\n",
       "  'answers': [<Answer {'answer': 'The data does not contain information related to the question.', 'type': 'generative', 'score': None, 'context': None, 'offsets_in_document': None, 'offsets_in_context': None, 'document_ids': ['92768dadbf7a0eeb3ec3e6303e3813f9', '123187ef16b64ddf0ef67bd48646cce1', '77235b76387b398c752a138c4e19761a', 'b2e9b71d88d11392fecce097a0f4a40b', 'ac58779334049a1e1d0f8cedcd7bf554', '7485683ce5c951f9b719d0830b1c0dbd', '4f9a280b1d3535d46895c898103a2986', '5813795ae104aa9539b7e69e84636e32', '87ec786e108ba1959adff0271aaa0101', '2a6e80a598f794936eff38f88bcb584d'], 'meta': {'prompt': \"Answer the following query based on the provided context. If the context does\\n                                                not include an answer, reply with 'The data does not contain information related to the question'.\\n\\n                                                Query: eggs,bacon,cheese\\n\\n                                                Documents: crispy crunchy  chicken stove top  bbq  beef or pork ribs grilled  ranch bread fried  potatoes italian sandwich  pasta salad jiffy  roasted corn and jalapeno cornbread grilled  venison burgers leftovers  spaghetti sauce cream  of spinach soup  vegan red  macaroni salad\\n                                                Answer: \\n                                            \"}}>],\n",
       "  'prompts': [\"Answer the following query based on the provided context. If the context does\\n                                                not include an answer, reply with 'The data does not contain information related to the question'.\\n\\n                                                Query: eggs,bacon,cheese\\n\\n                                                Documents: crispy crunchy  chicken stove top  bbq  beef or pork ribs grilled  ranch bread fried  potatoes italian sandwich  pasta salad jiffy  roasted corn and jalapeno cornbread grilled  venison burgers leftovers  spaghetti sauce cream  of spinach soup  vegan red  macaroni salad\\n                                                Answer: \\n                                            \"]},\n",
       " 'documents': [<Document: {'content': 'crispy crunchy  chicken', 'content_type': 'text', 'score': 0.6804033203018417, 'meta': {'answer': 'Name: crispy crunchy  chicken\\n\\nRating: 3.0/5\\n\\nCook Time: 35 minutes\\n\\nTags: 60-minutes-or-less, time-to-make, course, preparation, healthy, main-dish, dietary, low-saturated-fat, low-in-something\\n\\nDescription: delicious, crunchy fried chicken. this recipe came from the \\n\\nNumber of ingredients: 10\\n\\nIngredients List: boneless skinless chicken breast halves, condensed cream of chicken soup, egg, seasoning salt, all-purpose flour, cornstarch, garlic powder, paprika, salt and pepper, oil\\n\\nSteps:\\n1 combine soup , egg and seasoned salt in a bowl and set aside\\n2 mix together flour , cornstarch , garlic powder , paprika , salt and pepper in a resealable plastic bag\\n3 dip chicken pieces into soup mixture and turn so as to coat all over\\n4 place chicken pieces in bag with flour mixture , seal bag and shake to coat chicken\\n5 place coated pieces of chicken on a platter and allow to set until the coating becomes doughy\\n6 heat oil in a deep fryer or in a skillet over medium heat , using enough oil to cover chicken pieces when fried\\n7 once chicken is doughy , fry pieces in oil for approx 5-8 minutes or until cooked through and juices run clear\\n8 drain pieces on paper towel and serve\\n\\n\\nNutrition: 335.8 calories, 11.0% total fat, 2.0% sugar, 24.0% sodium, 64.0% protein, 10.0% saturated fat, ', 'vector_id': '51'}, 'id_hash_keys': ['content'], 'embedding': '<embedding of shape (768,)>', 'id': '92768dadbf7a0eeb3ec3e6303e3813f9'}>,\n",
       "  <Document: {'content': 'stove top  bbq  beef or pork ribs', 'content_type': 'text', 'score': 0.6791524658290596, 'meta': {'answer': \"Name: stove top  bbq  beef or pork ribs\\n\\nRating: 4.7/5\\n\\nCook Time: 150 minutes\\n\\nTags: time-to-make, course, main-ingredient, preparation, main-dish, beef, easy, dietary, meat, beef-ribs, 3-steps-or-less, 4-hours-or-less\\n\\nDescription: this recipe is from the paula deen cooking show on the tv food network. originally shown for beef short ribs only, i have found it works as well with pork ribs. i have increased the amount of sauce ingredients - the original amounts didn't seem to be quite enough to really enjoy!\\n\\nNumber of ingredients: 10\\n\\nIngredients List: beef ribs, onion, ketchup, water, fresh lemon juice, brown sugar, mustard, salt, worcestershire sauce, vegetable oil\\n\\nSteps:\\n1 cut all ribs into serving size pieces sprinkle ribs with salt in a dutch oven , brown ribs on all sides in veg oil over medium heat remove ribs from pot saute onions in pot until lightly browned return ribs to pot combine all remaining ingredients in a bowl and mix together- add to pot cover pot and cook over low heat for approx 2 hours , or until tender , stirring occasionally\\n\\n\\nNutrition: 179.3 calories, 7.0% total fat, 119.0% sugar, 36.0% sodium, 3.0% protein, 3.0% saturated fat, \", 'vector_id': '2'}, 'id_hash_keys': ['content'], 'embedding': '<embedding of shape (768,)>', 'id': '123187ef16b64ddf0ef67bd48646cce1'}>,\n",
       "  <Document: {'content': 'grilled  ranch bread', 'content_type': 'text', 'score': 0.6759433920048222, 'meta': {'answer': 'Name: grilled  ranch bread\\n\\nRating: 4.0/5\\n\\nCook Time: 13 minutes\\n\\nTags: 15-minutes-or-less, time-to-make, course, preparation, 5-ingredients-or-less, appetizers, breads, easy, number-of-servings, 3-steps-or-less\\n\\nDescription: buttery and \\n\\nNumber of ingredients: 3\\n\\nIngredients List: butter, dry ranch dressing mix, french bread\\n\\nSteps:\\n1 cream the butter with the dressing mix\\n2 spread evenly on the bread halves\\n3 place under the broiler for 2-3 minutes , until golden and the butter begins to seep and bubble\\n4 serve hot\\n\\n\\nNutrition: 1649.8 calories, 91.0% total fat, 4.0% sugar, 128.0% sodium, 80.0% protein, 160.0% saturated fat, ', 'vector_id': '41'}, 'id_hash_keys': ['content'], 'embedding': '<embedding of shape (768,)>', 'id': '77235b76387b398c752a138c4e19761a'}>,\n",
       "  <Document: {'content': 'fried  potatoes', 'content_type': 'text', 'score': 0.6744562350976389, 'meta': {'answer': 'Name: fried  potatoes\\n\\nRating: 4.5/5\\n\\nCook Time: 40 minutes\\n\\nTags: 60-minutes-or-less, time-to-make, course, main-ingredient, preparation, low-protein, healthy, 5-ingredients-or-less, side-dishes, potatoes, vegetables, oven, easy, dietary, low-sodium, low-cholesterol, low-saturated-fat, low-calorie, healthy-2, low-in-something, equipment\\n\\nDescription: my husband made these up last week, very tasty, he liked them because they were easy.\\n\\nNumber of ingredients: 3\\n\\nIngredients List: red potatoes, margarine, rosemary\\n\\nSteps:\\n1 preheat oven to 400 degrees\\n2 cut the potatoes into strips about 2 1 / 2 inches long by 1 / 4-inch thick\\n3 soak the potatoes in ice water for five minutes\\n4 drain the potatoes , then rinse thoroughly under cold water\\n5 press between paper towels to dry\\n6 transfer potatoes to a bowl , pour melted margarine over the potatoes and toss to coat them\\n7 spray baking sheet with non-stick spray\\n8 spread potatoes onto baking sheet\\n9 bake for 15 minutes\\n10 toss and turn\\n11 bake for five minutes\\n12 add herbs and toss\\n13 bake a final five minutes until the potatoes are brown and crisp\\n14 serve immediately\\n\\n\\nNutrition: 132.6 calories, 8.0% total fat, 4.0% sugar, 3.0% sodium, 4.0% protein, 5.0% saturated fat, ', 'vector_id': '72'}, 'id_hash_keys': ['content'], 'embedding': '<embedding of shape (768,)>', 'id': 'b2e9b71d88d11392fecce097a0f4a40b'}>,\n",
       "  <Document: {'content': 'italian sandwich  pasta salad', 'content_type': 'text', 'score': 0.6741008359159005, 'meta': {'answer': 'Name: italian sandwich  pasta salad\\n\\nRating: 5.0/5\\n\\nCook Time: 25 minutes\\n\\nTags: 30-minutes-or-less, time-to-make, course, main-ingredient, preparation, occasion, main-dish, salads, pasta, easy, kid-friendly, summer, dietary, one-dish-meal, seasonal, pasta-rice-and-grains\\n\\nDescription: this is a fun salad that uses the same ingredients you would in an italian sandwich. water chestnuts give it a nice crunch!!\\n\\nNumber of ingredients: 16\\n\\nIngredients List: tri-color spiral pasta, dill pickles, ripe olives, green onion, chives, sweet pepper, water chestnut, tomatoes, ham, cheese, olive oil, cider vinegar, onion powder, garlic powder, salt and pepper, italian seasoning\\n\\nSteps:\\n1 cook pasta and set aside\\n2 place onions , dill pickles , olives , water chestnuts , chives and peppers in a bowl\\n3 add oil , vinegar and spices\\n4 marinate for 15-20 minutes or so\\n5 add pasta , tomatoes , meat and cheese and toss lightly\\n6 serve cold\\n\\n\\nNutrition: 279.2 calories, 14.0% total fat, 12.0% sugar, 22.0% sodium, 23.0% protein, 11.0% saturated fat, ', 'vector_id': '66'}, 'id_hash_keys': ['content'], 'embedding': '<embedding of shape (768,)>', 'id': 'ac58779334049a1e1d0f8cedcd7bf554'}>,\n",
       "  <Document: {'content': 'jiffy  roasted corn and jalapeno cornbread', 'content_type': 'text', 'score': 0.6730174877623244, 'meta': {'answer': 'Name: jiffy  roasted corn and jalapeno cornbread\\n\\nRating: 5.0/5\\n\\nCook Time: 35 minutes\\n\\nTags: 60-minutes-or-less, time-to-make, course, main-ingredient, preparation, occasion, breads, side-dishes, vegetables, easy, beginner-cook, comfort-food, inexpensive, corn, taste-mood\\n\\nDescription: this is a moist, easy, colorful and delicious cornbread. roasting the corn adds a little nuttier flavor and the red bell pepper adds a nice color and flavor.\\n\\nNumber of ingredients: 10\\n\\nIngredients List: whole kernel corn, onion, red bell pepper, butter, jiffy corn muffin mix, egg, heavy cream, jalapenos, sharp cheddar cheese, honey\\n\\nSteps:\\n1 melt butter in a saut pan\\n2 add the corn , onion and red pepper and saut on medium heat until some of the corn kernels start to turn golden brown\\n3 whisk egg , corn liquid , and cream together\\n4 stir into corn muffin mix with a fork\\n5 stir in diced jalapenos and cheddar cheese\\n6 quickly stir in hot sauted corn and onion mixture , just mixing in slightly\\n7 pour into 8 x 8 buttered baking dish\\n8 bake at 350 for 15 minutes\\n9 remove cornbread , turn off oven , drizzle cornbread with honey and put back in hot oven for 5 minutes\\n10 remove from oven and let stand for 10 minutes before serving\\n\\n\\nNutrition: 400.2 calories, 32.0% total fat, 43.0% sugar, 31.0% sodium, 21.0% protein, 54.0% saturated fat, ', 'vector_id': '40'}, 'id_hash_keys': ['content'], 'embedding': '<embedding of shape (768,)>', 'id': '7485683ce5c951f9b719d0830b1c0dbd'}>,\n",
       "  <Document: {'content': 'grilled  venison burgers', 'content_type': 'text', 'score': 0.6723515319485764, 'meta': {'answer': 'Name: grilled  venison burgers\\n\\nRating: 4.4/5\\n\\nCook Time: 26 minutes\\n\\nTags: 30-minutes-or-less, time-to-make, course, main-ingredient, preparation, lunch, dietary, wild-game, deer, meat\\n\\nDescription: delicious venison burgers with that \\n\\nNumber of ingredients: 10\\n\\nIngredients List: ground venison, egg substitute, non-fat powdered milk, water, fresh breadcrumb, onion, salt, black pepper, dry mustard, worcestershire sauce\\n\\nSteps:\\n1 in bowl , mix dry ingredients\\n2 add venison and mix well\\n3 add liquid ingredients and mix well with a fork , until bread crumbs are barely noticeable\\n4 on plastic wrap , form into 8 patties , making them round and very flat-- like a fast-food burger\\n5 they can be cooked immediately , but i prefer to freeze them first\\n6 place them on a large cookie sheet and freeze them several hours\\n7 remove from freezer and place waxed paper between each burger as you stack them\\n8 i stack them in 2 1-quart freezer zip-lock bags\\n9 preheat cast iron skillet to very hot\\n10 cook frozen burgers until they are slightly charred on one side and then turn and cook until the other side is slightly charred and burgers are medium-well\\n11 do not overcook\\n12 turn burner off and leave burgers in the pan while you put condiments on your hamburger bun\\n13 if cooking thawed burgers , cook about 2-3 minutes per side\\n\\n\\nNutrition: 190.9 calories, 10.0% total fat, 10.0% sugar, 10.0% sodium, 45.0% protein, 15.0% saturated fat, ', 'vector_id': '24'}, 'id_hash_keys': ['content'], 'embedding': '<embedding of shape (768,)>', 'id': '4f9a280b1d3535d46895c898103a2986'}>,\n",
       "  <Document: {'content': 'leftovers  spaghetti sauce', 'content_type': 'text', 'score': 0.6722903341100348, 'meta': {'answer': \"Name: leftovers  spaghetti sauce\\n\\nRating: 4.0/5\\n\\nCook Time: 40 minutes\\n\\nTags: 60-minutes-or-less, time-to-make, course, main-ingredient, preparation, for-1-or-2, healthy, sauces, main-dish, condiments-etc, beef, pasta, dietary, low-cholesterol, low-calorie, low-carb, healthy-2, ground-beef, low-in-something, meat, pasta-rice-and-grains, number-of-servings\\n\\nDescription: i love eating ground beef in my spaghetti sauce. here's another recipe i made up, this time with leftovers i had in the fridge and also what i had on hand in the pantry. we were on a tight budget at the time, so i just threw a bunch of stuff together and it came out quite good and my husband enjoyed it too again, my measurements are all estimated, i apologize.\\n\\nNumber of ingredients: 6\\n\\nIngredients List: stewed tomatoes, prego spaghetti sauce, garlic, ground beef, white onion, granulated sugar\\n\\nSteps:\\n1 i had previously browned and drained the ground beef and had it in the fridge , if you don't have this leftover , brown ground beef first in a nonstick skillet , drain off fat really well\\n2 i use a pile of paper towels to soak up the fat\\n3 place ground beef in a large pot\\n4 stir in all other ingredients except the sugar\\n5 bring to a boil , stirring occasionally\\n6 turn heat down to low and simmer uncovered or covered for about 30 minutes or so to let the flavors mix , stirring occasionally\\n7 taste the sauce now and then and add more onions or garlic to taste\\n8 add a little sugar to neutralize the acidity of the tomatoes during the simmering\\n9 serve over hot spaghetti noodles\\n10 the sauce should be fairly thick , not runny , so as you add in the ingredients , use more or less of the prego as needed\\n11 if too thick , add a little water , more prego , or more stewed tomatoes with juice\\n12 when i made mine , it was the consistency of chili\\n13 this makes a pretty decent batch , can feed 2-4 depending on how much everyone eats in a serving\\n\\n\\nNutrition: 987.8 calories, 75.0% total fat, 195.0% sugar, 106.0% sodium, 104.0% protein, 83.0% saturated fat, \", 'vector_id': '26'}, 'id_hash_keys': ['content'], 'embedding': '<embedding of shape (768,)>', 'id': '5813795ae104aa9539b7e69e84636e32'}>,\n",
       "  <Document: {'content': 'cream  of spinach soup  vegan', 'content_type': 'text', 'score': 0.6721912050523221, 'meta': {'answer': 'Name: cream  of spinach soup  vegan\\n\\nRating: 2.0/5\\n\\nCook Time: 55 minutes\\n\\nTags: 60-minutes-or-less, time-to-make, course, main-ingredient, preparation, occasion, bisques-cream-soups, main-dish, soups-stews, vegetables, vegan, vegetarian, stove-top, dietary, one-dish-meal, low-cholesterol, low-saturated-fat, low-calorie, comfort-food, low-in-something, taste-mood, equipment\\n\\nDescription: thickened with a mix of cooked oats and vegies, this soup has all the flavor of the original with a fraction of the fat stuff. low in cholestorol too!\\n\\nNumber of ingredients: 12\\n\\nIngredients List: onion, scallion, apple juice, olive oil, spinach, fresh parsley, celery, broth, rolled oats, salt, dried thyme, white pepper\\n\\nSteps:\\n1 in a 3 qt saucepan over medium high heat , saute the onions and scallions in the apple juice and oil for 5 minutes , stirring frequently\\n2 add the spinach , parsley and celery\\n3 cook for 5-7 minutes , stirring occasionally add the broth , oats , salt , thyme and pepper\\n4 bring to a boil , then lower the heat to medium\\n5 cover and simmer for 20 minutes\\n6 remove from the heat\\n7 let the soup cool for 10 minutes\\n8 working in batches , puree in a blender until thick and smooth\\n9 return to the pot\\n10 reheat and serve\\n\\n\\nNutrition: 64.8 calories, 3.0% total fat, 13.0% sugar, 54.0% sodium, 4.0% protein, 2.0% saturated fat, ', 'vector_id': '48'}, 'id_hash_keys': ['content'], 'embedding': '<embedding of shape (768,)>', 'id': '87ec786e108ba1959adff0271aaa0101'}>,\n",
       "  <Document: {'content': 'red  macaroni salad', 'content_type': 'text', 'score': 0.6714807658044606, 'meta': {'answer': 'Name: red  macaroni salad\\n\\nRating: 3.5/5\\n\\nCook Time: 1470 minutes\\n\\nTags: weeknight, time-to-make, course, main-ingredient, preparation, healthy, salads, side-dishes, pasta, 1-day-or-more, dietary, low-sodium, low-cholesterol, healthy-2, low-in-something, pasta-rice-and-grains, elbow-macaroni\\n\\nDescription: this is not your usual macaroni salad....there is no miracle whip in this. when i first saw it i was a little put off because of the looks of it, but was sooo surprised when i tasted it!!glad i did! tasty & a nice change.(i put 1 day for cook time as this is best made ahead of time,i am guessing on servings also as it depends on the appetites and the venue!)\\n\\nNumber of ingredients: 10\\n\\nIngredients List: elbow macaroni, green pepper, onion, celery, fresh tomato, cucumber, oil, brown sugar, lemon juice, ketchup\\n\\nSteps:\\n1 in large mixing bowl , combine your macaroni& diced veggies\\n2 in another bowl , combine sauce ingredients , blending well\\n3 pour sauce over the macaroni& vegetables\\n4 mix well& chill\\n5 this can be made up to a day before for fullest flavour\\n6 great for a bbq !\\n7 may be kept 3-4 days in refrigerator\\n\\n\\nNutrition: 572.6 calories, 43.0% total fat, 113.0% sugar, 11.0% sodium, 17.0% protein, 18.0% saturated fat, ', 'vector_id': '14'}, 'id_hash_keys': ['content'], 'embedding': '<embedding of shape (768,)>', 'id': '2a6e80a598f794936eff38f88bcb584d'}>],\n",
       " 'root_node': 'Query',\n",
       " 'params': {},\n",
       " 'query': 'eggs,bacon,cheese',\n",
       " 'node_id': 'PromptNode'}"
      ]
     },
     "execution_count": 18,
     "metadata": {},
     "output_type": "execute_result"
    }
   ],
   "source": [
    "query_pipeline.run(\"eggs,bacon,cheese\")"
   ]
  }
 ],
 "metadata": {
  "kernelspec": {
   "display_name": "hacktoberfest-env",
   "language": "python",
   "name": "python3"
  },
  "language_info": {
   "codemirror_mode": {
    "name": "ipython",
    "version": 3
   },
   "file_extension": ".py",
   "mimetype": "text/x-python",
   "name": "python",
   "nbconvert_exporter": "python",
   "pygments_lexer": "ipython3",
   "version": "3.11.4"
  }
 },
 "nbformat": 4,
 "nbformat_minor": 2
}
